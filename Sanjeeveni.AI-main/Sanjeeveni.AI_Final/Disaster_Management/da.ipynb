{
 "cells": [
  {
   "cell_type": "code",
   "execution_count": null,
   "metadata": {},
   "outputs": [],
   "source": [
    "pip install flask numpy pandas sklearn tensorflow geopy joblib scikit-learn keyboard\n"
   ]
  },
  {
   "cell_type": "code",
   "execution_count": 18,
   "metadata": {},
   "outputs": [
    {
     "name": "stdout",
     "output_type": "stream",
     "text": [
      "Model files saved: tfidf_vectorizer.pkl, disaster_model.pkl, label_encoder.pkl\n"
     ]
    }
   ],
   "source": [
    "import pandas as pd\n",
    "from sklearn.feature_extraction.text import TfidfVectorizer\n",
    "from sklearn.ensemble import RandomForestClassifier\n",
    "from sklearn.preprocessing import LabelEncoder\n",
    "import joblib\n",
    "\n",
    "# Load dataset\n",
    "data = pd.read_csv(\"d.csv\")  # Replace with your dataset path\n",
    "\n",
    "# Preprocess data\n",
    "messages = data[\"message\"]\n",
    "categories = data[\"category\"]\n",
    "\n",
    "# Encode labels\n",
    "label_encoder = LabelEncoder()\n",
    "encoded_labels = label_encoder.fit_transform(categories)\n",
    "\n",
    "# Transform text data to TF-IDF vectors\n",
    "vectorizer = TfidfVectorizer(max_features=5000, stop_words=\"english\")\n",
    "X = vectorizer.fit_transform(messages)\n",
    "\n",
    "# Train the model\n",
    "model = RandomForestClassifier(n_estimators=100, random_state=42)\n",
    "model.fit(X, encoded_labels)\n",
    "\n",
    "# Save the trained components\n",
    "joblib.dump(vectorizer, \"tfidf_vectorizer.pkl\")\n",
    "joblib.dump(model, \"disaster_model.pkl\")\n",
    "joblib.dump(label_encoder, \"label_encoder.pkl\")\n",
    "\n",
    "print(\"Model files saved: tfidf_vectorizer.pkl, disaster_model.pkl, label_encoder.pkl\")\n"
   ]
  },
  {
   "cell_type": "code",
   "execution_count": null,
   "metadata": {},
   "outputs": [],
   "source": []
  },
  {
   "cell_type": "code",
   "execution_count": null,
   "metadata": {},
   "outputs": [],
   "source": []
  },
  {
   "cell_type": "code",
   "execution_count": 19,
   "metadata": {},
   "outputs": [],
   "source": [
    "import joblib\n",
    "import csv\n",
    "import logging\n",
    "import pandas as pd\n",
    "from geopy.geocoders import Nominatim\n",
    "from geopy.distance import geodesic\n",
    "import folium\n",
    "from folium.plugins import MarkerCluster\n",
    "import keyboard\n"
   ]
  },
  {
   "cell_type": "code",
   "execution_count": 20,
   "metadata": {},
   "outputs": [],
   "source": [
    "\n",
    "\n",
    "logging.basicConfig(level=logging.INFO, format='%(asctime)s - %(levelname)s - %(message)s')\n",
    "# Load pretrained models\n",
    "try:\n",
    "    vectorizer = joblib.load(\"tfidf_vectorizer.pkl\")\n",
    "    model = joblib.load(\"disaster_model.pkl\")\n",
    "    label_encoder = joblib.load(\"label_encoder.pkl\")\n",
    "except Exception as e:\n",
    "    logging.error(f\"Error loading models: {str(e)}\")\n",
    "    exit(1)\n",
    "\n",
    "# Load NGO dataset\n",
    "try:\n",
    "    ngo_df = pd.read_csv(\"ngo_dataset.csv\")\n",
    "except Exception as e:\n",
    "    logging.error(f\"Error loading NGO dataset: {str(e)}\")\n",
    "    exit(1)\n",
    "\n",
    "# Initialize geolocator\n",
    "geolocator = Nominatim(user_agent=\"disaster_response_app\")"
   ]
  },
  {
   "cell_type": "code",
   "execution_count": 21,
   "metadata": {},
   "outputs": [],
   "source": [
    "\n",
    "def find_nearest_ngo(latitude, longitude):\n",
    "    try:\n",
    "        user_location = (latitude, longitude)\n",
    "        ngo_data = ngo_df.copy()\n",
    "        ngo_data[\"Distance\"] = ngo_data.apply(\n",
    "            lambda row: geodesic(user_location, (row[\"Latitude\"], row[\"Longitude\"])).kilometers, axis=1\n",
    "        )\n",
    "        nearest_ngo = ngo_data.loc[ngo_data[\"Distance\"].idxmin()]\n",
    "        return {\n",
    "            \"name\": nearest_ngo[\"NGO Name\"],\n",
    "            \"city\": nearest_ngo[\"City\"],\n",
    "            \"contact\": nearest_ngo[\"Contact\"],\n",
    "            \"email\": nearest_ngo[\"Email\"],\n",
    "            \"latitude\": nearest_ngo[\"Latitude\"],\n",
    "            \"longitude\": nearest_ngo[\"Longitude\"],\n",
    "            \"distance\": nearest_ngo[\"Distance\"]\n",
    "        }\n",
    "    except Exception as e:\n",
    "        logging.error(f\"NGO search error: {str(e)}\")\n",
    "        return None"
   ]
  },
  {
   "cell_type": "code",
   "execution_count": 22,
   "metadata": {},
   "outputs": [],
   "source": [
    "\n",
    "\n",
    "\n",
    "def predict_message_local(message):\n",
    "    try:\n",
    "        # Preprocess and predict\n",
    "        vectorized_message = vectorizer.transform([message])\n",
    "        probabilities = model.predict_proba(vectorized_message)\n",
    "        predicted_class = model.predict(vectorized_message)[0]\n",
    "        confidence = max(probabilities[0])\n",
    "        category_name = label_encoder.inverse_transform([predicted_class])[0]\n",
    "        return category_name, confidence\n",
    "    except Exception as e:\n",
    "        logging.error(f\"Prediction error: {str(e)}\")\n",
    "        return None, None"
   ]
  },
  {
   "cell_type": "code",
   "execution_count": 23,
   "metadata": {},
   "outputs": [],
   "source": [
    "\n",
    "def get_geolocation(location_name):\n",
    "    try:\n",
    "        location = geolocator.geocode(location_name, timeout=10)\n",
    "        if location:\n",
    "            return location.latitude, location.longitude\n",
    "        else:\n",
    "            return None, None\n",
    "    except Exception as e:\n",
    "        logging.error(f\"Geolocation error: {str(e)}\")\n",
    "        return None, None"
   ]
  },
  {
   "cell_type": "code",
   "execution_count": 24,
   "metadata": {},
   "outputs": [],
   "source": [
    "\n",
    "def save_predictions_to_file(predictions, filename=\"predictions.csv\"):\n",
    "    try:\n",
    "        with open(filename, mode='w', newline='', encoding='utf-8') as file:\n",
    "            writer = csv.writer(file)\n",
    "            writer.writerow([\"Message\", \"Category\", \"Confidence\", \"Latitude\", \"Longitude\", \"NGO Name\", \"NGO City\", \"NGO Contact\", \"NGO Email\", \"Distance (km)\"])\n",
    "            writer.writerows(predictions)\n",
    "        logging.info(f\"Predictions saved to {filename}\")\n",
    "    except Exception as e:\n",
    "        logging.error(f\"File saving error: {str(e)}\")"
   ]
  },
  {
   "cell_type": "code",
   "execution_count": 25,
   "metadata": {},
   "outputs": [],
   "source": [
    "\n",
    "def create_location_map(predictions, filename=\"locations_map.html\"):\n",
    "    try:\n",
    "        disaster_map = folium.Map(location=[20.5937, 78.9629], zoom_start=5)  # Default: India\n",
    "        marker_cluster = MarkerCluster().add_to(disaster_map)\n",
    "        \n",
    "        for prediction in predictions:\n",
    "            message, category, confidence, latitude, longitude, ngo_name, ngo_city, ngo_contact, ngo_email, ngo_distance = prediction\n",
    "            if latitude and longitude:\n",
    "                popup = (\n",
    "                    f\"<b>Message:</b> {message}<br>\"\n",
    "                    f\"<b>Category:</b> {category} (Confidence: {confidence:.2f})<br>\"\n",
    "                    f\"<b>NGO:</b> {ngo_name} ({ngo_city})<br>\"\n",
    "                    f\"<b>Contact:</b> {ngo_contact}, <b>Email:</b> {ngo_email}<br>\"\n",
    "                    f\"<b>Distance:</b> {ngo_distance:.2f} km\"\n",
    "                )\n",
    "                folium.Marker([latitude, longitude], popup=popup).add_to(marker_cluster)\n",
    "        \n",
    "        disaster_map.save(filename)\n",
    "        logging.info(f\"Map saved to {filename}\")\n",
    "    except Exception as e:\n",
    "        logging.error(f\"Map creation error: {str(e)}\")"
   ]
  },
  {
   "cell_type": "code",
   "execution_count": 26,
   "metadata": {},
   "outputs": [],
   "source": [
    "def cli_predictor():\n",
    "    print(\"Welcome to the Enhanced Disaster Response Predictor!\")\n",
    "    print(\"Press 'Esc' at any time to exit.\")\n",
    "    predictions = []\n",
    "    \n",
    "    while True:\n",
    "        # Check if Esc key is pressed\n",
    "        if keyboard.is_pressed(\"esc\"):\n",
    "            print(\"\\nExiting application. Goodbye!\")\n",
    "            break\n",
    "        \n",
    "        message = input(\"Enter a disaster message: \")\n",
    "        if not message.strip():\n",
    "            print(\"Message cannot be empty!\")\n",
    "            continue\n",
    "        \n",
    "        location = input(\"Enter a location (optional): \")\n",
    "        category, confidence = predict_message_local(message)\n",
    "        \n",
    "        if location:\n",
    "            latitude, longitude = get_geolocation(location)\n",
    "            if latitude and longitude:\n",
    "                nearest_ngo = find_nearest_ngo(latitude, longitude)\n",
    "            else:\n",
    "                nearest_ngo = None\n",
    "        else:\n",
    "            latitude, longitude = None, None\n",
    "            nearest_ngo = None\n",
    "        \n",
    "        if category:\n",
    "            print(f\"Predicted category: {category} (Confidence: {confidence:.2f})\")\n",
    "            if latitude and longitude:\n",
    "                print(f\"Location coordinates: Latitude={latitude}, Longitude={longitude}\")\n",
    "                if nearest_ngo:\n",
    "                    print(f\"Nearest NGO: {nearest_ngo['name']} ({nearest_ngo['city']})\")\n",
    "                    print(f\"Contact: {nearest_ngo['contact']}, Email: {nearest_ngo['email']}, Distance: {nearest_ngo['distance']:.2f} km\")\n",
    "                else:\n",
    "                    print(\"No nearby NGO found.\")\n",
    "            predictions.append([\n",
    "                message, category, confidence, latitude, longitude,\n",
    "                nearest_ngo[\"name\"] if nearest_ngo else None,\n",
    "                nearest_ngo[\"city\"] if nearest_ngo else None,\n",
    "                nearest_ngo[\"contact\"] if nearest_ngo else None,\n",
    "                nearest_ngo[\"email\"] if nearest_ngo else None,\n",
    "                nearest_ngo[\"distance\"] if nearest_ngo else None\n",
    "            ])\n",
    "        else:\n",
    "            print(\"Could not predict category.\")\n",
    "        \n",
    "        cont = input(\"Do you want to predict another message? (y/n/save/map): \").lower()\n",
    "        if cont == \"save\":\n",
    "            save_predictions_to_file(predictions)\n",
    "        elif cont == \"map\":\n",
    "            create_location_map(predictions)\n",
    "        elif cont != \"y\":\n",
    "            break"
   ]
  },
  {
   "cell_type": "code",
   "execution_count": 29,
   "metadata": {},
   "outputs": [
    {
     "name": "stdout",
     "output_type": "stream",
     "text": [
      "Welcome to the Enhanced Disaster Response Predictor!\n",
      "Press 'Esc' at any time to exit.\n",
      "Predicted category: drought (Confidence: 0.57)\n",
      "Location coordinates: Latitude=15.3004543, Longitude=74.0855134\n",
      "Nearest NGO: Care & Share NGO (Bengaluru)\n",
      "Contact: +91 9840907271, Email: ngo_552@help.org, Distance: 76.07 km\n"
     ]
    }
   ],
   "source": [
    "\n",
    "if __name__ == \"__main__\":\n",
    "    cli_predictor()"
   ]
  }
 ],
 "metadata": {
  "kernelspec": {
   "display_name": "Python 3",
   "language": "python",
   "name": "python3"
  },
  "language_info": {
   "codemirror_mode": {
    "name": "ipython",
    "version": 3
   },
   "file_extension": ".py",
   "mimetype": "text/x-python",
   "name": "python",
   "nbconvert_exporter": "python",
   "pygments_lexer": "ipython3",
   "version": "3.12.6"
  }
 },
 "nbformat": 4,
 "nbformat_minor": 2
}
